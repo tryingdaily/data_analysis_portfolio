{
 "cells": [
  {
   "cell_type": "markdown",
   "metadata": {},
   "source": [
    "## Assignment 1\n",
    "#### Author: Zanele Mankazana "
   ]
  },
  {
   "cell_type": "markdown",
   "metadata": {},
   "source": [
    "##### Import libraries"
   ]
  },
  {
   "cell_type": "code",
   "execution_count": 1,
   "metadata": {},
   "outputs": [],
   "source": [
    "import pandas as pd "
   ]
  },
  {
   "cell_type": "code",
   "execution_count": 4,
   "metadata": {},
   "outputs": [
    {
     "data": {
      "text/html": [
       "<div>\n",
       "<style scoped>\n",
       "    .dataframe tbody tr th:only-of-type {\n",
       "        vertical-align: middle;\n",
       "    }\n",
       "\n",
       "    .dataframe tbody tr th {\n",
       "        vertical-align: top;\n",
       "    }\n",
       "\n",
       "    .dataframe thead th {\n",
       "        text-align: right;\n",
       "    }\n",
       "</style>\n",
       "<table border=\"1\" class=\"dataframe\">\n",
       "  <thead>\n",
       "    <tr style=\"text-align: right;\">\n",
       "      <th></th>\n",
       "      <th>Title</th>\n",
       "      <th>Date</th>\n",
       "    </tr>\n",
       "  </thead>\n",
       "  <tbody>\n",
       "    <tr>\n",
       "      <th>0</th>\n",
       "      <td>Russian Doll: Season 2: Station to Station</td>\n",
       "      <td>5/4/22</td>\n",
       "    </tr>\n",
       "    <tr>\n",
       "      <th>1</th>\n",
       "      <td>Russian Doll: Season 2: Brain Drain</td>\n",
       "      <td>5/3/22</td>\n",
       "    </tr>\n",
       "    <tr>\n",
       "      <th>2</th>\n",
       "      <td>Russian Doll: Season 2: Coney Island Baby</td>\n",
       "      <td>4/26/22</td>\n",
       "    </tr>\n",
       "    <tr>\n",
       "      <th>3</th>\n",
       "      <td>Russian Doll: Season 2: Nowhen</td>\n",
       "      <td>4/26/22</td>\n",
       "    </tr>\n",
       "    <tr>\n",
       "      <th>4</th>\n",
       "      <td>Eternally Confused and Eager for Love: Season ...</td>\n",
       "      <td>4/10/22</td>\n",
       "    </tr>\n",
       "    <tr>\n",
       "      <th>...</th>\n",
       "      <td>...</td>\n",
       "      <td>...</td>\n",
       "    </tr>\n",
       "    <tr>\n",
       "      <th>1967</th>\n",
       "      <td>The OA: Part I: Chapter 4: Away</td>\n",
       "      <td>12/22/16</td>\n",
       "    </tr>\n",
       "    <tr>\n",
       "      <th>1968</th>\n",
       "      <td>The OA: Part I: Chapter 3: Champion</td>\n",
       "      <td>12/22/16</td>\n",
       "    </tr>\n",
       "    <tr>\n",
       "      <th>1969</th>\n",
       "      <td>The OA: Part I: Chapter 2: New Colossus</td>\n",
       "      <td>12/22/16</td>\n",
       "    </tr>\n",
       "    <tr>\n",
       "      <th>1970</th>\n",
       "      <td>The OA: Part I: Chapter 1: Homecoming</td>\n",
       "      <td>12/22/16</td>\n",
       "    </tr>\n",
       "    <tr>\n",
       "      <th>1971</th>\n",
       "      <td>The Imitation Game</td>\n",
       "      <td>12/21/16</td>\n",
       "    </tr>\n",
       "  </tbody>\n",
       "</table>\n",
       "<p>1972 rows × 2 columns</p>\n",
       "</div>"
      ],
      "text/plain": [
       "                                                  Title      Date\n",
       "0            Russian Doll: Season 2: Station to Station    5/4/22\n",
       "1                   Russian Doll: Season 2: Brain Drain    5/3/22\n",
       "2             Russian Doll: Season 2: Coney Island Baby   4/26/22\n",
       "3                        Russian Doll: Season 2: Nowhen   4/26/22\n",
       "4     Eternally Confused and Eager for Love: Season ...   4/10/22\n",
       "...                                                 ...       ...\n",
       "1967                    The OA: Part I: Chapter 4: Away  12/22/16\n",
       "1968                The OA: Part I: Chapter 3: Champion  12/22/16\n",
       "1969            The OA: Part I: Chapter 2: New Colossus  12/22/16\n",
       "1970              The OA: Part I: Chapter 1: Homecoming  12/22/16\n",
       "1971                                 The Imitation Game  12/21/16\n",
       "\n",
       "[1972 rows x 2 columns]"
      ]
     },
     "execution_count": 4,
     "metadata": {},
     "output_type": "execute_result"
    }
   ],
   "source": [
    "df = pd.read_csv(\"NetflixViewingHistory.csv\")\n",
    "df"
   ]
  },
  {
   "cell_type": "markdown",
   "metadata": {},
   "source": []
  },
  {
   "cell_type": "markdown",
   "metadata": {},
   "source": [
    "##### How many rows and columns are in the dataset?"
   ]
  },
  {
   "cell_type": "code",
   "execution_count": 5,
   "metadata": {},
   "outputs": [
    {
     "data": {
      "text/plain": [
       "(1972, 2)"
      ]
     },
     "execution_count": 5,
     "metadata": {},
     "output_type": "execute_result"
    }
   ],
   "source": [
    "# questions a and b\n",
    "df.shape"
   ]
  },
  {
   "cell_type": "markdown",
   "metadata": {},
   "source": [
    "###### What is the name of the first column and second column of the dataset?\n"
   ]
  },
  {
   "cell_type": "code",
   "execution_count": null,
   "metadata": {},
   "outputs": [
    {
     "data": {
      "text/html": [
       "<div>\n",
       "<style scoped>\n",
       "    .dataframe tbody tr th:only-of-type {\n",
       "        vertical-align: middle;\n",
       "    }\n",
       "\n",
       "    .dataframe tbody tr th {\n",
       "        vertical-align: top;\n",
       "    }\n",
       "\n",
       "    .dataframe thead th {\n",
       "        text-align: right;\n",
       "    }\n",
       "</style>\n",
       "<table border=\"1\" class=\"dataframe\">\n",
       "  <thead>\n",
       "    <tr style=\"text-align: right;\">\n",
       "      <th></th>\n",
       "      <th>Title</th>\n",
       "      <th>Date</th>\n",
       "    </tr>\n",
       "  </thead>\n",
       "  <tbody>\n",
       "  </tbody>\n",
       "</table>\n",
       "</div>"
      ],
      "text/plain": [
       "Empty DataFrame\n",
       "Columns: [Title, Date]\n",
       "Index: []"
      ]
     },
     "execution_count": 6,
     "metadata": {},
     "output_type": "execute_result"
    }
   ],
   "source": [
    "# questions c and d\n",
    "df.head(0)"
   ]
  },
  {
   "cell_type": "markdown",
   "metadata": {},
   "source": [
    "##### How many times was an episode of the show Designated Survivor watched according to the data"
   ]
  },
  {
   "cell_type": "code",
   "execution_count": null,
   "metadata": {},
   "outputs": [],
   "source": [
    "# question e\n",
    "# Step 1: just get the titles\n",
    "#my_titles = None\n",
    "# my_title =df['Title']\n",
    "df[\"Title\"]\n",
    "#my_title"
   ]
  },
  {
   "cell_type": "code",
   "execution_count": null,
   "metadata": {},
   "outputs": [],
   "source": [
    "# Step 2 use apply to determine if title contains Brigerton\n",
    "\n",
    "#my_title = df['Title'].apply(lambda title : \"Designated Survivor\" in title)\n",
    "df['Title'].apply(lambda title : \"Designated Survivor\" in title)\n",
    "\n",
    "#my_title"
   ]
  },
  {
   "cell_type": "code",
   "execution_count": null,
   "metadata": {},
   "outputs": [
    {
     "data": {
      "text/plain": [
       "10"
      ]
     },
     "execution_count": 40,
     "metadata": {},
     "output_type": "execute_result"
    }
   ],
   "source": [
    "# Step 3: sum up how many titles have the key word\n",
    "#my_title = df['Title'].apply(lambda title : \"Designated Survivor\" in title).sum()\n",
    "df['Title'].apply(lambda title : \"Designated Survivor\" in title).sum()\n",
    "#my_title"
   ]
  },
  {
   "cell_type": "code",
   "execution_count": null,
   "metadata": {},
   "outputs": [],
   "source": [
    "# view only titles \n",
    "df.loc[[\"Bridgerton\" in n for n in df[\"Title\"]], : ]\n",
    "\n",
    "#starting date refers to first episode the user watched "
   ]
  },
  {
   "cell_type": "markdown",
   "metadata": {},
   "source": [
    "##### When was the starting date of watching the show Bridgerton according to the data?a"
   ]
  },
  {
   "cell_type": "code",
   "execution_count": null,
   "metadata": {},
   "outputs": [],
   "source": [
    "# Step 1: Zoom in on entries containing bridgeton in the title\n",
    "df.loc[[\"Bridgerton\" in title for title in df[\"Title\"]], : ]"
   ]
  },
  {
   "cell_type": "code",
   "execution_count": null,
   "metadata": {},
   "outputs": [],
   "source": [
    "# Step 2: sort by date\n",
    "df.loc[[\"Bridgerton\" in title for title in df[\"Title\"]], : ].sort_values(\"Date\", ascending=False)"
   ]
  },
  {
   "cell_type": "code",
   "execution_count": null,
   "metadata": {},
   "outputs": [
    {
     "data": {
      "text/plain": [
       "'1/8/21'"
      ]
     },
     "execution_count": 91,
     "metadata": {},
     "output_type": "execute_result"
    }
   ],
   "source": [
    "df.loc[[\"Bridgerton\" in title for title in df[\"Title\"]], : ].sort_values(\"Date\", ascending=False)[\"Date\"].iloc[-1]"
   ]
  },
  {
   "cell_type": "markdown",
   "metadata": {},
   "source": [
    "##### What is the title of the first episode of the show Bridgerton watched according to the data?"
   ]
  },
  {
   "cell_type": "code",
   "execution_count": null,
   "metadata": {},
   "outputs": [
    {
     "data": {
      "text/plain": [
       "'Bridgerton: Season 2: The Viscount Who Loved Me'"
      ]
     },
     "execution_count": 77,
     "metadata": {},
     "output_type": "execute_result"
    }
   ],
   "source": [
    "df.loc[[\"Bridgerton\" in title for title in df[\"Title\"]], : ].sort_values(\"Date\")[\"Title\"].iloc[-1]"
   ]
  },
  {
   "cell_type": "markdown",
   "metadata": {},
   "source": [
    "##### What is the title of the first episode of the show Bridgerton watched according to the data?"
   ]
  },
  {
   "cell_type": "code",
   "execution_count": null,
   "metadata": {},
   "outputs": [],
   "source": [
    "# Zoom in to all entries with Bridgerton\n",
    "df.loc[[\"Bridgerton\" in title for title in df[\"Title\"]], : ]\n",
    "\n",
    "#Sort by Title\n",
    "df.loc[[\"Bridgerton\" in title for title in df[\"Title\"]], : ].sort_values(\"Date\", ascending = True)[\"Date\"]\n",
    "\n",
    "#.sort_values(\"Date\")[\"Date\"].iloc[-1]"
   ]
  },
  {
   "cell_type": "code",
   "execution_count": null,
   "metadata": {},
   "outputs": [],
   "source": [
    "df.loc[[\"Bridgerton\" in title for title in df[\"Title\"]], : ].sort_values(\"Date\")[\"Date\"].iloc[-1]"
   ]
  },
  {
   "cell_type": "markdown",
   "metadata": {},
   "source": [
    "##### When was the LAST DATE of watching the show Bridgerton according to the data?"
   ]
  },
  {
   "cell_type": "code",
   "execution_count": null,
   "metadata": {},
   "outputs": [
    {
     "data": {
      "text/plain": [
       "'4/4/22'"
      ]
     },
     "execution_count": 60,
     "metadata": {},
     "output_type": "execute_result"
    }
   ],
   "source": [
    "df.loc[[\"Bridgerton\" in title for title in df[\"Title\"]], : ].sort_values(\"Date\")[\"Date\"].iloc[-1]"
   ]
  },
  {
   "cell_type": "markdown",
   "metadata": {},
   "source": [
    "##### What is the TITLE of the last episode of the show Bridgerton watched according to the data?"
   ]
  },
  {
   "cell_type": "code",
   "execution_count": null,
   "metadata": {},
   "outputs": [
    {
     "data": {
      "text/plain": [
       "'Bridgerton: Season 2: The Viscount Who Loved Me'"
      ]
     },
     "execution_count": 83,
     "metadata": {},
     "output_type": "execute_result"
    }
   ],
   "source": [
    "df.loc[[\"Bridgerton\" in title for title in df[\"Title\"]], : ].sort_values(\"Date\")[\"Title\"].iloc[-1]"
   ]
  },
  {
   "cell_type": "code",
   "execution_count": null,
   "metadata": {},
   "outputs": [],
   "source": [
    "## Optional questions: What show has she waatched the most -> Audience Analysis can assist Netflix\n",
    "# to understand what genres or series types the account user watches to suggest and recommend\n",
    "# more accurately and hence ensure user continues to consume Netflix. "
   ]
  }
 ],
 "metadata": {
  "interpreter": {
   "hash": "ceb876c7f917777e0128cc11cbd5e08c5b08e33e2f21f7f73b5f4a2657dc8c51"
  },
  "kernelspec": {
   "display_name": "Python 3.9.12 ('base')",
   "language": "python",
   "name": "python3"
  },
  "language_info": {
   "codemirror_mode": {
    "name": "ipython",
    "version": 3
   },
   "file_extension": ".py",
   "mimetype": "text/x-python",
   "name": "python",
   "nbconvert_exporter": "python",
   "pygments_lexer": "ipython3",
   "version": "3.9.12"
  },
  "orig_nbformat": 4
 },
 "nbformat": 4,
 "nbformat_minor": 2
}
